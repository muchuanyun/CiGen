{
 "cells": [
  {
   "cell_type": "code",
   "execution_count": 1,
   "metadata": {
    "collapsed": true
   },
   "outputs": [],
   "source": [
    "import os\n",
    "import numpy as np\n",
    "import pandas as pd"
   ]
  },
  {
   "cell_type": "markdown",
   "metadata": {},
   "source": [
    "## 1. Save all poems form db to pkl"
   ]
  },
  {
   "cell_type": "code",
   "execution_count": 1,
   "metadata": {
    "collapsed": true
   },
   "outputs": [],
   "source": [
    "import sqlite3"
   ]
  },
  {
   "cell_type": "code",
   "execution_count": 2,
   "metadata": {
    "collapsed": true
   },
   "outputs": [],
   "source": [
    "db_file = '../chinese-poetry/ci/ci.db'"
   ]
  },
  {
   "cell_type": "code",
   "execution_count": 3,
   "metadata": {},
   "outputs": [],
   "source": [
    "conn = sqlite3.connect(db_file)\n",
    "c = conn.cursor()"
   ]
  },
  {
   "cell_type": "code",
   "execution_count": 4,
   "metadata": {
    "collapsed": true
   },
   "outputs": [],
   "source": [
    "def table_col_info(cursor, table_name, print_out=False):\n",
    "    \"\"\" Returns a list of tuples with column informations:\n",
    "        (id, name, type, notnull, default_value, primary_key)\n",
    "    \"\"\"\n",
    "    cursor.execute('PRAGMA TABLE_INFO({})'.format(table_name))\n",
    "    info = cursor.fetchall()\n",
    "\n",
    "    if print_out:\n",
    "        print(\"\\nColumn Info:\\nID, Name, Type, NotNull, DefaultVal, PrimaryKey\")\n",
    "        for col in info:\n",
    "            print(col)\n",
    "    return info"
   ]
  },
  {
   "cell_type": "code",
   "execution_count": 5,
   "metadata": {},
   "outputs": [
    {
     "name": "stdout",
     "output_type": "stream",
     "text": [
      "\n",
      "Column Info:\n",
      "ID, Name, Type, NotNull, DefaultVal, PrimaryKey\n",
      "(0, 'value', 'INTEGER', 1, None, 1)\n",
      "(1, 'rhythmic', 'VARCHAR(255)', 1, None, 0)\n",
      "(2, 'author', 'VARCHAR(255)', 1, None, 0)\n",
      "(3, 'content', 'TEXT', 0, None, 0)\n"
     ]
    }
   ],
   "source": [
    "ci_col_info = table_col_info(c, 'ci', True)"
   ]
  },
  {
   "cell_type": "code",
   "execution_count": 12,
   "metadata": {},
   "outputs": [],
   "source": [
    "def get_num_contents(cursor, table_name, print_out=False):\n",
    "    \n",
    "    cursor.execute('SELECT count(1) FROM {}'.format(table_name))\n",
    "    num_ci = cursor.fetchone()[0]\n",
    "    \n",
    "    if print_out:\n",
    "        print(\"Number of iambics: {}\".format(num_ci))\n",
    "    return num_ci"
   ]
  },
  {
   "cell_type": "code",
   "execution_count": 13,
   "metadata": {},
   "outputs": [
    {
     "name": "stdout",
     "output_type": "stream",
     "text": [
      "Number of iambics: 21050\n"
     ]
    }
   ],
   "source": [
    "num_ci = get_all_contents(c, 'ci', True)"
   ]
  },
  {
   "cell_type": "code",
   "execution_count": 20,
   "metadata": {},
   "outputs": [],
   "source": [
    "def get_all_contents(cursor, num_ci, print_sample=5):\n",
    "    \n",
    "    cursor.execute('SELECT {} FROM {}'.format('content','ci'))\n",
    "    all_info = cursor.fetchall()\n",
    "    \n",
    "    for idx in np.random.choice(num_ci, print_sample):\n",
    "        print(all_info[idx])\n",
    "    \n",
    "    return all_info"
   ]
  },
  {
   "cell_type": "code",
   "execution_count": 21,
   "metadata": {},
   "outputs": [
    {
     "name": "stdout",
     "output_type": "stream",
     "text": [
      "('老不计生朝，惭愧阿连书尺。\\n雪鬓霜髭不管，管眼腰黄赤。\\n待将心事自笺天，莫费子公力。\\n乞赐先生处士，换一张黄敕。',)\n",
      "('金风玉露初凉夜，秋草窗前。\\n浅醉闲眠。\\n一枕江风梦不圆。\\n长情短恨难凭寄，枉费红笺。\\n试拂么弦。\\n却恐琴心可暗传。',)\n",
      "('青门深。\\n海棠开尽春阴阴。\\n春阴阴。\\n万重云水，一寸归心。\\n玉楼深锁烟消沈。\\n知他何日同登临。\\n同登临。\\n待收红泪，细说如今。',)\n",
      "('暗叶啼风雨，窗外晓色珑。\\n散水麝，小池东。\\n乱一岸芙蓉。\\n蕲州簟展双纹浪，轻帐翠缕如空。\\n梦念远别、泪痕重。\\n淡铅脸斜红。\\n忡忡。\\n嗟憔悴、新宽带结，羞艳冶、都销镜中。',)\n",
      "('雪飞灯背雁声低。\\n寒生红被池。\\n小屏风畔立多时。\\n闲看番马儿。\\n新泪，旧题诗。\\n一般罗带垂。\\n琼箫夜夜挟愁吹。\\n梅花知不知。',)\n"
     ]
    }
   ],
   "source": [
    "all_info = get_all_contents(c, num_ci, 5)"
   ]
  },
  {
   "cell_type": "code",
   "execution_count": 24,
   "metadata": {
    "collapsed": true
   },
   "outputs": [],
   "source": [
    "conn.close()"
   ]
  },
  {
   "cell_type": "code",
   "execution_count": 22,
   "metadata": {
    "collapsed": true
   },
   "outputs": [],
   "source": [
    "import pickle\n",
    "\n",
    "with open('ci.pkl', 'wb') as f:\n",
    "    pickle.dump(all_info, f)"
   ]
  },
  {
   "cell_type": "markdown",
   "metadata": {},
   "source": [
    "## 2. Data Preparation"
   ]
  },
  {
   "cell_type": "code",
   "execution_count": 3,
   "metadata": {
    "collapsed": true
   },
   "outputs": [],
   "source": [
    "import pickle\n",
    "\n",
    "with open('ci.pkl', 'rb') as f:\n",
    "    all_content = pickle.load(f)"
   ]
  },
  {
   "cell_type": "code",
   "execution_count": 4,
   "metadata": {},
   "outputs": [
    {
     "name": "stdout",
     "output_type": "stream",
     "text": [
      "('春早。\\n柳丝无力，低拂清门道。\\n暖日笼啼鸟。\\n初坼桃花小。\\n遥望碧天净如扫。\\n曳一缕、轻烟缥缈。',)\n"
     ]
    }
   ],
   "source": [
    "print(all_content[5])"
   ]
  },
  {
   "cell_type": "code",
   "execution_count": null,
   "metadata": {
    "collapsed": true
   },
   "outputs": [],
   "source": []
  }
 ],
 "metadata": {
  "kernelspec": {
   "display_name": "Python 3",
   "language": "python",
   "name": "python3"
  },
  "language_info": {
   "codemirror_mode": {
    "name": "ipython",
    "version": 3
   },
   "file_extension": ".py",
   "mimetype": "text/x-python",
   "name": "python",
   "nbconvert_exporter": "python",
   "pygments_lexer": "ipython3",
   "version": "3.5.3"
  }
 },
 "nbformat": 4,
 "nbformat_minor": 2
}
